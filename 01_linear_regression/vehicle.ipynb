{
 "cells": [
  {
   "cell_type": "code",
   "execution_count": 1,
   "id": "75fc1caa",
   "metadata": {},
   "outputs": [
    {
     "name": "stdout",
     "output_type": "stream",
     "text": [
      "2.8.0+cu128\n",
      "True\n",
      "Quadro RTX 3000\n"
     ]
    }
   ],
   "source": [
    "import torch\n",
    "print(torch.__version__)\n",
    "print(torch.cuda.is_available())\n",
    "if torch.cuda.is_available():\n",
    "    print(torch.cuda.get_device_name(0))\n"
   ]
  },
  {
   "cell_type": "code",
   "execution_count": 3,
   "id": "9af3577e",
   "metadata": {},
   "outputs": [
    {
     "name": "stdout",
     "output_type": "stream",
     "text": [
      "✅ Both YOLO models loaded successfully on CPU.\n"
     ]
    }
   ],
   "source": [
    "from ultralytics import YOLO\n",
    "\n",
    "# Load models on CPU only to verify file access\n",
    "model = YOLO(\"/home/bluro/Vehicle-Distance-Measurement-System/yolo12x.pt\").to('cpu')\n",
    "license_plate_model = YOLO(\"/home/bluro/Vehicle-Distance-Measurement-System/license-plate.pt\").to('cpu')\n",
    "\n",
    "print(\"✅ Both YOLO models loaded successfully on CPU.\")"
   ]
  },
  {
   "cell_type": "code",
   "execution_count": 4,
   "id": "586ed895",
   "metadata": {},
   "outputs": [
    {
     "name": "stdout",
     "output_type": "stream",
     "text": [
      "✅ Models loaded successfully on CUDA!\n"
     ]
    }
   ],
   "source": [
    "import torch\n",
    "from ultralytics import YOLO\n",
    "\n",
    "device = 'cuda' if torch.cuda.is_available() else 'cpu'\n",
    "\n",
    "model = YOLO(\"/home/bluro/Vehicle-Distance-Measurement-System/yolo12x.pt\").to(device)\n",
    "license_plate_model = YOLO(\"/home/bluro/Vehicle-Distance-Measurement-System/license-plate.pt\").to(device)\n",
    "\n",
    "print(f\"✅ Models loaded successfully on {device.upper()}!\")"
   ]
  },
  {
   "cell_type": "code",
   "execution_count": 1,
   "id": "5b391f53",
   "metadata": {},
   "outputs": [
    {
     "ename": "NameError",
     "evalue": "name 'device' is not defined",
     "output_type": "error",
     "traceback": [
      "\u001b[0;31m---------------------------------------------------------------------------\u001b[0m",
      "\u001b[0;31mNameError\u001b[0m                                 Traceback (most recent call last)",
      "Cell \u001b[0;32mIn[1], line 30\u001b[0m\n\u001b[1;32m     27\u001b[0m MAIN_ROI_WARNING_THRESHOLD \u001b[38;5;241m=\u001b[39m \u001b[38;5;241m5.0\u001b[39m\n\u001b[1;32m     29\u001b[0m \u001b[38;5;66;03m# -------- Load models (download from repo or same directory)\u001b[39;00m\n\u001b[0;32m---> 30\u001b[0m model \u001b[38;5;241m=\u001b[39m YOLO(\u001b[38;5;124m\"\u001b[39m\u001b[38;5;124myolov8n.pt\u001b[39m\u001b[38;5;124m\"\u001b[39m)\u001b[38;5;241m.\u001b[39mto(\u001b[43mdevice\u001b[49m)\n\u001b[1;32m     31\u001b[0m license_plate_model \u001b[38;5;241m=\u001b[39m YOLO(\u001b[38;5;124m\"\u001b[39m\u001b[38;5;124mlicense-plate.pt\u001b[39m\u001b[38;5;124m\"\u001b[39m)\u001b[38;5;241m.\u001b[39mto(device)\n\u001b[1;32m     33\u001b[0m \u001b[38;5;66;03m# -------- Utility Functions\u001b[39;00m\n",
      "\u001b[0;31mNameError\u001b[0m: name 'device' is not defined"
     ]
    }
   ],
   "source": [
    "# ============================================================\n",
    "#  VEHICLE DISTANCE MEASUREMENT SYSTEM  |  IP CAMERA MODE\n",
    "#  (Original Author Logic - Adapted for Live Stream)\n",
    "# ============================================================\n",
    "\n",
    "import cv2\n",
    "import numpy as np\n",
    "from ultralytics import YOLO\n",
    "import os\n",
    "os.chdir('/home/bluro/Vehicle-Distance-Measurement-System')\n",
    "# -------- ROI Zones (same as original, designed for 2042×1148px frame)\n",
    "ROI_ZONES = {\n",
    "    'LEFT': np.array([[240, 600], [925, 550], [312, 1100], [100, 1100]], dtype=np.int32),\n",
    "    'MAIN': np.array([[925, 550], [1025, 550], [1712, 1100], [312, 1100]], dtype=np.int32),\n",
    "    'RIGHT': np.array([[1025, 550], [1802, 600], [1942, 1100], [1712, 1100]], dtype=np.int32)\n",
    "}\n",
    "\n",
    "FOCAL_LENGTH = 500\n",
    "OPTICAL_CENTERS = {'LEFT': (156, 1050), 'MAIN': (1000, 1020), 'RIGHT': (1868, 1050)}\n",
    "TARGET_CLASSES = [2, 3, 5, 7]  # Car, Motorcycle, Bus, Truck\n",
    "REAL_VEHICLE_HEIGHTS = {2: 1.55, 3: 1.2, 5: 3.0, 7: 2.5}\n",
    "CONFIDENCE_THRESHOLD = 0.7\n",
    "LICENSE_PLATE_CONFIDENCE = 0.475\n",
    "MAX_DISPLAY_DISTANCE = 15\n",
    "WARNING_DISTANCES = {'LEFT': 1, 'MAIN': 2, 'RIGHT': 1}\n",
    "DISTANCE_DISPLAY_THRESHOLDS = {'LEFT': 5, 'RIGHT': 5}\n",
    "MAIN_ROI_WARNING_THRESHOLD = 5.0\n",
    "\n",
    "# -------- Load models (download from repo or same directory)\n",
    "model = YOLO(\"yolov8n.pt\").to(device)\n",
    "license_plate_model = YOLO(\"license-plate.pt\").to(device)\n",
    "\n",
    "# -------- Utility Functions\n",
    "def is_point_in_roi(point, roi_coordinates):\n",
    "    return cv2.pointPolygonTest(roi_coordinates, point, False) >= 0\n",
    "\n",
    "def get_vehicle_roi_zone(center_point):\n",
    "    for zone_name, roi_coords in ROI_ZONES.items():\n",
    "        if is_point_in_roi(center_point, roi_coords):\n",
    "            return zone_name\n",
    "    return None\n",
    "\n",
    "def calculate_distance(bbox, class_id, zone_name):\n",
    "    if class_id not in REAL_VEHICLE_HEIGHTS or zone_name not in OPTICAL_CENTERS:\n",
    "        return 0\n",
    "    x1, y1, x2, y2 = bbox\n",
    "    bbox_height = y2 - y1\n",
    "    if bbox_height <= 0:\n",
    "        return 0\n",
    "    vehicle_center_x, vehicle_center_y = (x1 + x2) / 2, (y1 + y2) / 2\n",
    "    optical_center_x, optical_center_y = OPTICAL_CENTERS[zone_name]\n",
    "    displacement = np.sqrt((vehicle_center_x - optical_center_x)**2 + (vehicle_center_y - optical_center_y)**2)\n",
    "    distance = (REAL_VEHICLE_HEIGHTS[class_id] * FOCAL_LENGTH) / bbox_height\n",
    "    return distance * (1.0 + displacement * 0.0001)\n",
    "\n",
    "def should_display_distance(distance, zone_name):\n",
    "    threshold = DISTANCE_DISPLAY_THRESHOLDS.get(zone_name, 999)\n",
    "    return distance <= threshold\n",
    "\n",
    "def get_distance_color(distance, zone_name):\n",
    "    warning_distance = WARNING_DISTANCES.get(zone_name, 2.0)\n",
    "    if zone_name == 'MAIN' and distance < MAIN_ROI_WARNING_THRESHOLD:\n",
    "        return (0, 0, 255)\n",
    "    elif distance < warning_distance:\n",
    "        return (0, 0, 255)\n",
    "    else:\n",
    "        return (0, 255, 0)\n",
    "\n",
    "def blur_license_plates_in_vehicle(frame, vehicle_bbox):\n",
    "    x1, y1, x2, y2 = map(int, vehicle_bbox)\n",
    "    vehicle_region = frame[y1:y2, x1:x2]\n",
    "    if vehicle_region.size == 0:\n",
    "        return\n",
    "    try:\n",
    "        plate_results = license_plate_model(vehicle_region, conf=LICENSE_PLATE_CONFIDENCE, verbose=False)\n",
    "        for plate_result in plate_results:\n",
    "            if plate_result.boxes is not None:\n",
    "                for plate_box in plate_result.boxes.xyxy.cpu().numpy():\n",
    "                    px1, py1, px2, py2 = map(int, plate_box)\n",
    "                    frame_height, frame_width = frame.shape[:2]\n",
    "                    px1, py1 = max(0, min(px1 + x1, frame_width)), max(0, min(py1 + y1, frame_height))\n",
    "                    px2, py2 = max(0, min(px2 + x1, frame_width)), max(0, min(py2 + y1, frame_height))\n",
    "                    if px2 > px1 and py2 > py1:\n",
    "                        plate_region = frame[py1:py2, px1:px2]\n",
    "                        if plate_region.size > 0:\n",
    "                            blurred_plate = cv2.GaussianBlur(plate_region, (51, 51), 30)\n",
    "                            frame[py1:py2, px1:px2] = blurred_plate\n",
    "    except Exception as e:\n",
    "        print(f\"License plate detection error: {e}\")\n",
    "\n",
    "def draw_distance_label(frame, bbox, distance, color, zone_name):\n",
    "    x1, y1, x2, y2 = map(int, bbox)\n",
    "    distance_text = f\"{distance:.1f}m\"\n",
    "    font = cv2.FONT_HERSHEY_DUPLEX\n",
    "    font_scale, thickness = 1.2, 3\n",
    "    (text_width, text_height), _ = cv2.getTextSize(distance_text, font, font_scale, thickness)\n",
    "    frame_height, frame_width = frame.shape[:2]\n",
    "    center_x = (x1 + x2) // 2\n",
    "    text_x = max(10, min(center_x - text_width // 2, frame_width - text_width - 20))\n",
    "    text_y = min(frame_height - 35, y2 + text_height + 20)\n",
    "    padding = 10\n",
    "    bg_x1, bg_y1 = max(0, text_x - padding), max(0, text_y - text_height - padding)\n",
    "    bg_x2, bg_y2 = min(frame_width, text_x + text_width + padding), min(frame_height, text_y + padding)\n",
    "    overlay = frame.copy()\n",
    "    cv2.rectangle(overlay, (bg_x1, bg_y1), (bg_x2, bg_y2), color, -1)\n",
    "    cv2.addWeighted(overlay, 0.8, frame, 0.2, 0, frame)\n",
    "    cv2.putText(frame, distance_text, (text_x, text_y), font, font_scale, (255, 255, 255), thickness)\n",
    "\n",
    "def draw_warning_message(frame, message):\n",
    "    height, width = frame.shape[:2]\n",
    "    font = cv2.FONT_HERSHEY_DUPLEX\n",
    "    font_scale, thickness = 1.0, 3\n",
    "    (text_width, text_height), _ = cv2.getTextSize(message, font, font_scale, thickness)\n",
    "    position_x, position_y = width//2 - text_width//2, 80\n",
    "    padding = 15\n",
    "    overlay = frame.copy()\n",
    "    cv2.rectangle(overlay, (position_x - padding, position_y - text_height - padding),\n",
    "                  (position_x + text_width + padding, position_y + padding), (0, 0, 255), -1)\n",
    "    cv2.addWeighted(overlay, 0.7, frame, 0.3, 0, frame)\n",
    "    cv2.putText(frame, message, (position_x, position_y), font, font_scale, (255, 255, 255), thickness)\n",
    "\n",
    "# -------- CAMERA STREAM (CHANGE URL)\n",
    "camera_url = \"http://192.168.110.186:8080/video\"\n",
    "video_capture = cv2.VideoCapture(camera_url)\n",
    "\n",
    "if not video_capture.isOpened():\n",
    "    raise RuntimeError(\"❌ Could not open IP camera stream!\")\n",
    "\n",
    "while True:\n",
    "    ret, frame = video_capture.read()\n",
    "    if not ret:\n",
    "        print(\"⚠️ Frame not received or stream lost.\")\n",
    "        break\n",
    "\n",
    "    annotated_frame = frame.copy()\n",
    "    results = model(annotated_frame, classes=TARGET_CLASSES, verbose=False)\n",
    "    detections_info = []\n",
    "\n",
    "    for result in results:\n",
    "        if result.boxes is not None:\n",
    "            for box in result.boxes:\n",
    "                bbox = box.xyxy[0].cpu().numpy()\n",
    "                x1, y1, x2, y2 = bbox\n",
    "                center_point = (int((x1 + x2) / 2), int((y1 + y2) / 2))\n",
    "                class_id = int(box.cls[0])\n",
    "                confidence = float(box.conf[0])\n",
    "                class_name = model.names.get(class_id, \"unknown\")\n",
    "\n",
    "                if class_name in ['car', 'motorcycle', 'bus', 'truck']:\n",
    "                    blur_license_plates_in_vehicle(annotated_frame, bbox)\n",
    "\n",
    "                zone_name = get_vehicle_roi_zone(center_point)\n",
    "                if zone_name is None or confidence <= CONFIDENCE_THRESHOLD:\n",
    "                    continue\n",
    "\n",
    "                distance = calculate_distance(bbox, class_id, zone_name)\n",
    "                warning_distance = WARNING_DISTANCES.get(zone_name, 2.0)\n",
    "\n",
    "                if should_display_distance(distance, zone_name) and distance <= MAX_DISPLAY_DISTANCE:\n",
    "                    color = get_distance_color(distance, zone_name)\n",
    "                    draw_distance_label(annotated_frame, bbox, distance, color, zone_name)\n",
    "\n",
    "                detections_info.append({'distance': distance, 'warning_distance': warning_distance})\n",
    "\n",
    "    if detections_info and any(d['distance'] < d['warning_distance'] for d in detections_info):\n",
    "        draw_warning_message(annotated_frame, \"WARNING: VEHICLE VERY CLOSE!\")\n",
    "\n",
    "    cv2.imshow('Vehicle Distance Measurement (Live)', annotated_frame)\n",
    "\n",
    "    if cv2.waitKey(1) & 0xFF == ord('q'):\n",
    "        print(\"👋 Exiting...\")\n",
    "        break\n",
    "\n",
    "video_capture.release()\n",
    "cv2.destroyAllWindows()\n"
   ]
  },
  {
   "cell_type": "code",
   "execution_count": 4,
   "id": "a0144af1",
   "metadata": {},
   "outputs": [
    {
     "name": "stdout",
     "output_type": "stream",
     "text": [
      "/home/bluro/Vehicle-Distance-Measurement-System\n"
     ]
    }
   ],
   "source": [
    "import os\n",
    "print(os.getcwd())"
   ]
  },
  {
   "cell_type": "code",
   "execution_count": 3,
   "id": "9fc7285e",
   "metadata": {},
   "outputs": [
    {
     "name": "stdout",
     "output_type": "stream",
     "text": [
      "📂 Now working in: /home/bluro/Vehicle-Distance-Measurement-System\n"
     ]
    }
   ],
   "source": [
    "import os\n",
    "os.chdir('/home/bluro/Vehicle-Distance-Measurement-System')\n",
    "print(\"📂 Now working in:\", os.getcwd())\n"
   ]
  },
  {
   "cell_type": "code",
   "execution_count": 5,
   "id": "07bd843a",
   "metadata": {},
   "outputs": [],
   "source": [
    "from ultralytics import YOLO\n",
    "\n",
    "model = YOLO(\"/home/bluro/Vehicle-Distance-Measurement-System/yolo12x.pt\")\n",
    "license_plate_model = YOLO(\"/home/bluro/Vehicle-Distance-Measurement-System/license-plate.pt\")\n"
   ]
  },
  {
   "cell_type": "code",
   "execution_count": null,
   "id": "ed81ea0a",
   "metadata": {},
   "outputs": [],
   "source": []
  }
 ],
 "metadata": {
  "kernelspec": {
   "display_name": "vehicle-distance",
   "language": "python",
   "name": "python3"
  },
  "language_info": {
   "codemirror_mode": {
    "name": "ipython",
    "version": 3
   },
   "file_extension": ".py",
   "mimetype": "text/x-python",
   "name": "python",
   "nbconvert_exporter": "python",
   "pygments_lexer": "ipython3",
   "version": "3.9.24"
  }
 },
 "nbformat": 4,
 "nbformat_minor": 5
}
